{
 "cells": [
  {
   "cell_type": "code",
   "execution_count": 45,
   "id": "3203c9fb",
   "metadata": {},
   "outputs": [],
   "source": [
    "import numpy as np\n",
    "import pandas as pd\n",
    "import seaborn as sns\n",
    "import matplotlib.pyplot as plt\n",
    "from sklearn.feature_extraction.text import TfidfVectorizer\n",
    "from sklearn.model_selection import train_test_split, GridSearchCV\n",
    "from sklearn.metrics import roc_auc_score, f1_score, confusion_matrix, classification_report\n",
    "from sklearn.linear_model import LogisticRegression\n",
    "from imblearn.over_sampling import SMOTE\n",
    "from nltk.corpus import stopwords\n",
    "from nltk.tokenize import word_tokenize\n",
    "from nltk.stem import WordNetLemmatizer\n",
    "from sklearn.preprocessing import LabelEncoder\n"
   ]
  },
  {
   "cell_type": "code",
   "execution_count": 46,
   "id": "83bc3851",
   "metadata": {},
   "outputs": [],
   "source": [
    "# Load data\n",
    "data = pd.read_csv('AirlineTweets.csv')\n",
    "data = data[['airline_sentiment', 'text']].copy()"
   ]
  },
  {
   "cell_type": "code",
   "execution_count": 47,
   "id": "8f09d7a1",
   "metadata": {},
   "outputs": [
    {
     "name": "stdout",
     "output_type": "stream",
     "text": [
      "  airline_sentiment                                               text\n",
      "0           neutral                @VirginAmerica What @dhepburn said.\n",
      "1          positive  @VirginAmerica plus you've added commercials t...\n",
      "2           neutral  @VirginAmerica I didn't today... Must mean I n...\n",
      "3          negative  @VirginAmerica it's really aggressive to blast...\n",
      "4          negative  @VirginAmerica and it's a really big bad thing...\n",
      "<class 'pandas.core.frame.DataFrame'>\n",
      "RangeIndex: 14640 entries, 0 to 14639\n",
      "Data columns (total 2 columns):\n",
      " #   Column             Non-Null Count  Dtype \n",
      "---  ------             --------------  ----- \n",
      " 0   airline_sentiment  14640 non-null  object\n",
      " 1   text               14640 non-null  object\n",
      "dtypes: object(2)\n",
      "memory usage: 228.9+ KB\n",
      "None\n"
     ]
    }
   ],
   "source": [
    "# Data overview\n",
    "print(data.head())\n",
    "print(data.info())"
   ]
  },
  {
   "cell_type": "code",
   "execution_count": 48,
   "id": "dba95a76",
   "metadata": {},
   "outputs": [
    {
     "name": "stderr",
     "output_type": "stream",
     "text": [
      "C:\\Users\\Bolbol\\anaconda3\\lib\\site-packages\\seaborn\\_decorators.py:36: FutureWarning: Pass the following variable as a keyword arg: x. From version 0.12, the only valid positional argument will be `data`, and passing other arguments without an explicit keyword will result in an error or misinterpretation.\n",
      "  warnings.warn(\n"
     ]
    },
    {
     "data": {
      "image/png": "[encoded data removed]",
      "text/plain": [
       "<Figure size 640x480 with 1 Axes>"
      ]
     },
     "metadata": {},
     "output_type": "display_data"
    }
   ],
   "source": [
    "# Visualize class distribution\n",
    "sns.countplot(data['airline_sentiment'])\n",
    "plt.title('Class Distribution')\n",
    "plt.show()\n"
   ]
  },
  {
   "cell_type": "code",
   "execution_count": 49,
   "id": "51453139",
   "metadata": {},
   "outputs": [],
   "source": [
    "# Label encoding\n",
    "label = LabelEncoder()\n",
    "data['airline_sentiment'] = label.fit_transform(data['airline_sentiment'])\n"
   ]
  },
  {
   "cell_type": "code",
   "execution_count": 50,
   "id": "727976c6",
   "metadata": {},
   "outputs": [],
   "source": [
    "# Text preprocessing\n",
    "stop_words = set(stopwords.words('english'))\n",
    "lemmatizer = WordNetLemmatizer()"
   ]
  },
  {
   "cell_type": "code",
   "execution_count": 51,
   "id": "60df5354",
   "metadata": {},
   "outputs": [],
   "source": [
    "def preprocess_text(text):\n",
    "    tokens = word_tokenize(text.lower())  # Tokenize and convert to lowercase\n",
    "    filtered_tokens = [lemmatizer.lemmatize(w) for w in tokens if w not in stop_words]  # Remove stopwords and lemmatize\n",
    "    return ' '.join(filtered_tokens)  # Join tokens back into a string\n",
    "\n",
    "data['clean_text'] = data['text'].apply(preprocess_text)\n"
   ]
  },
  {
   "cell_type": "code",
   "execution_count": 52,
   "id": "9e44217b",
   "metadata": {},
   "outputs": [],
   "source": [
    "# TF-IDF Vectorization (with feature limit)\n",
    "tfidf_vectorizer = TfidfVectorizer(max_features=5000, max_df=0.9)\n",
    "tfidf_matrix = tfidf_vectorizer.fit_transform(data['clean_text'])\n",
    "\n",
    "X = tfidf_matrix\n",
    "y = data['airline_sentiment']\n"
   ]
  },
  {
   "cell_type": "code",
   "execution_count": 53,
   "id": "ed08d476",
   "metadata": {},
   "outputs": [],
   "source": [
    "# Handle class imbalance using SMOTE\n",
    "smote = SMOTE(random_state=42)\n",
    "X_resampled, y_resampled = smote.fit_resample(X, y)\n"
   ]
  },
  {
   "cell_type": "code",
   "execution_count": 54,
   "id": "96430e65",
   "metadata": {},
   "outputs": [],
   "source": [
    "# Train-test split\n",
    "X_train, X_test, y_train, y_test = train_test_split(X_resampled, y_resampled, test_size=0.2, random_state=42)\n"
   ]
  },
  {
   "cell_type": "code",
   "execution_count": 55,
   "id": "1f5c93b4",
   "metadata": {},
   "outputs": [
    {
     "data": {
      "text/plain": [
       "GridSearchCV(cv=5, estimator=LogisticRegression(max_iter=500),\n",
       "             param_grid={'C': [0.1, 1, 10]})"
      ]
     },
     "execution_count": 55,
     "metadata": {},
     "output_type": "execute_result"
    }
   ],
   "source": [
    "# Logistic regression with cross-validation for hyperparameter tuning\n",
    "param_grid = {'C': [0.1, 1, 10]}\n",
    "log_reg = LogisticRegression(max_iter=500)\n",
    "clf = GridSearchCV(log_reg, param_grid, cv=5)\n",
    "clf.fit(X_train, y_train)\n"
   ]
  },
  {
   "cell_type": "code",
   "execution_count": 56,
   "id": "413467a1",
   "metadata": {},
   "outputs": [
    {
     "name": "stdout",
     "output_type": "stream",
     "text": [
      "Best Hyperparameter (C): {'C': 10}\n",
      "Train acc: 0.9442956371725609\n",
      "Test acc: 0.8708915925186127\n"
     ]
    }
   ],
   "source": [
    "# Best model performance\n",
    "print(\"Best Hyperparameter (C):\", clf.best_params_)\n",
    "print(\"Train acc:\", clf.score(X_train, y_train))\n",
    "print(\"Test acc:\", clf.score(X_test, y_test))\n"
   ]
  },
  {
   "cell_type": "code",
   "execution_count": 57,
   "id": "7554c25c",
   "metadata": {},
   "outputs": [
    {
     "name": "stdout",
     "output_type": "stream",
     "text": [
      "Train AUC: 0.9892579527016947\n",
      "Test AUC: 0.962608813887143\n"
     ]
    }
   ],
   "source": [
    "# Train and Test AUC scores\n",
    "Pr_train = clf.predict_proba(X_train)\n",
    "Pr_test = clf.predict_proba(X_test)\n",
    "print(\"Train AUC:\", roc_auc_score(y_train, Pr_train, multi_class='ovo'))\n",
    "print(\"Test AUC:\", roc_auc_score(y_test, Pr_test, multi_class='ovo'))\n"
   ]
  },
  {
   "cell_type": "code",
   "execution_count": 58,
   "id": "5f75d64c",
   "metadata": {},
   "outputs": [
    {
     "data": {
      "image/png": "[encoded data removed]",
      "text/plain": [
       "<Figure size 640x480 with 2 Axes>"
      ]
     },
     "metadata": {},
     "output_type": "display_data"
    },
    {
     "name": "stdout",
     "output_type": "stream",
     "text": [
      "Classification Report:\n",
      "               precision    recall  f1-score   support\n",
      "\n",
      "    negative       0.90      0.81      0.85      1895\n",
      "     neutral       0.82      0.88      0.85      1786\n",
      "    positive       0.90      0.93      0.92      1826\n",
      "\n",
      "    accuracy                           0.87      5507\n",
      "   macro avg       0.87      0.87      0.87      5507\n",
      "weighted avg       0.87      0.87      0.87      5507\n",
      "\n"
     ]
    }
   ],
   "source": [
    "# Confusion Matrix and Classification Report\n",
    "P_train = clf.predict(X_train)\n",
    "P_test = clf.predict(X_test)\n",
    "cm = confusion_matrix(y_test, P_test)\n",
    "sns.heatmap(cm, annot=True, fmt='g', cmap='Blues', xticklabels=label.classes_, yticklabels=label.classes_)\n",
    "plt.title(\"Confusion Matrix\")\n",
    "plt.show()\n",
    "\n",
    "print(\"Classification Report:\\n\", classification_report(y_test, P_test, target_names=label.classes_))\n"
   ]
  },
  {
   "cell_type": "code",
   "execution_count": 59,
   "id": "243981b6",
   "metadata": {
    "scrolled": true
   },
   "outputs": [],
   "source": [
    "# Display top positive/negative words with weights\n",
    "word_index_map = tfidf_vectorizer.vocabulary_\n",
    "coef = clf.best_estimator_.coef_[0]  "
   ]
  },
  {
   "cell_type": "code",
   "execution_count": 61,
   "id": "7f21798a",
   "metadata": {},
   "outputs": [
    {
     "name": "stdout",
     "output_type": "stream",
     "text": [
      "Most positive words:\n",
      "            word    weight\n",
      "3119  difficulty -2.000325\n",
      "2842   guideline -2.000620\n",
      "2151    coworker -2.000884\n",
      "4017     opposed -2.006780\n",
      "2147      beauty -2.007625\n",
      "1905          kp -2.010249\n",
      "4400      nassau -2.017650\n",
      "845     frequent -2.023017\n",
      "2905  tremendous -2.025152\n",
      "2336         grr -2.029440\n",
      "Most negative words:\n",
      "              word    weight\n",
      "695          worst  7.773798\n",
      "56            hour  7.103070\n",
      "421   disappointed  6.118791\n",
      "170             hr  5.889474\n",
      "1300    ridiculous  5.409274\n",
      "102        nothing  5.235535\n",
      "171           fail  5.129212\n",
      "583           paid  5.109107\n",
      "2725          hire  4.916903\n",
      "1402         third  4.891158\n"
     ]
    }
   ],
   "source": [
    "word_weights = pd.DataFrame({'word': list(word_index_map.keys()), 'weight': coef[list(word_index_map.values())]})\n",
    "word_weights_sorted = word_weights.sort_values(by='weight', ascending=False)\n",
    "\n",
    "if label.classes_[1] == 'positive':  # Assuming 'positive' is encoded as 1\n",
    "    positive_words = word_weights_sorted[word_weights_sorted['weight'] > threshold]\n",
    "    negative_words = word_weights_sorted[word_weights_sorted['weight'] < -threshold]\n",
    "else:  # If 'negative' is encoded as 1, we need to flip the interpretation\n",
    "    positive_words = word_weights_sorted[word_weights_sorted['weight'] < -threshold]\n",
    "    negative_words = word_weights_sorted[word_weights_sorted['weight'] > threshold]\n",
    "\n",
    "# Display most positive and negative words\n",
    "print(\"Most positive words:\")\n",
    "print(positive_words.head(10))\n",
    "\n",
    "print(\"Most negative words:\")\n",
    "print(negative_words.head(10))"
   ]
  },
  {
   "cell_type": "code",
   "execution_count": null,
   "id": "a482b5a1",
   "metadata": {},
   "outputs": [],
   "source": []
  }
 ],
 "metadata": {
  "kernelspec": {
   "display_name": "Python 3 (ipykernel)",
   "language": "python",
   "name": "python3"
  },
  "language_info": {
   "codemirror_mode": {
    "name": "ipython",
    "version": 3
   },
   "file_extension": ".py",
   "mimetype": "text/x-python",
   "name": "python",
   "nbconvert_exporter": "python",
   "pygments_lexer": "ipython3",
   "version": "3.9.13"
  }
 },
 "nbformat": 4,
 "nbformat_minor": 5
}
