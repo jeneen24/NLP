{
 "cells": [
  {
   "cell_type": "code",
   "execution_count": 2,
   "id": "51fb36ce",
   "metadata": {},
   "outputs": [],
   "source": [
    "import numpy as np\n",
    "import pandas as pd\n",
    "import seaborn as sn\n",
    "import matplotlib.pyplot as plt\n",
    "from sklearn.feature_extraction.text import TfidfVectorizer, CountVectorizer\n",
    "from sklearn.model_selection import train_test_split\n",
    "from sklearn.metrics import roc_auc_score, f1_score, confusion_matrix\n",
    "from sklearn.naive_bayes import MultinomialNB\n"
   ]
  },
  {
   "cell_type": "code",
   "execution_count": 3,
   "id": "ab988522",
   "metadata": {},
   "outputs": [],
   "source": [
    "import re\n",
    "text = \"Hello!!! How are you? Call me at 123456.\"\n",
    "cleaned_text = re.sub(r'[^\\w\\s]', '', text)\n",
    "# Output: 'Hello How are you Call me at 123456'\n"
   ]
  },
  {
   "cell_type": "code",
   "execution_count": 4,
   "id": "96878f75",
   "metadata": {},
   "outputs": [],
   "source": [
    "text = \"Hello World!\"\n",
    "lowercase_text = text.lower()\n",
    "# Output: 'hello world!'\n"
   ]
  },
  {
   "cell_type": "code",
   "execution_count": 18,
   "id": "a095b338",
   "metadata": {},
   "outputs": [],
   "source": [
    "from nltk.corpus import stopwords\n",
    "from nltk.tokenize import word_tokenize\n",
    "\n",
    "text = \"This is a simple example of text processing.\"\n",
    "stop_words = set(stopwords.words('english'))\n",
    "words = word_tokenize(text)\n",
    "filtered_text = [w for w in words if not w in stop_words]\n",
    "# Output: ['This', 'simple', 'example', 'text', 'processing']\n"
   ]
  },
  {
   "cell_type": "code",
   "execution_count": 6,
   "id": "085a458b",
   "metadata": {},
   "outputs": [],
   "source": [
    "from nltk.tokenize import word_tokenize\n",
    "\n",
    "text = \"Natural Language Processing is fascinating.\"\n",
    "tokens = word_tokenize(text)\n",
    "# Output: ['Natural', 'Language', 'Processing', 'is', 'fascinating', '.']\n"
   ]
  },
  {
   "cell_type": "code",
   "execution_count": 7,
   "id": "edd6210a",
   "metadata": {},
   "outputs": [],
   "source": [
    "from nltk.stem import PorterStemmer\n",
    "\n",
    "ps = PorterStemmer()\n",
    "words = [\"running\", \"runs\", \"runner\"]\n",
    "stemmed_words = [ps.stem(w) for w in words]\n",
    "# Output: ['run', 'run', 'runner']\n"
   ]
  },
  {
   "cell_type": "code",
   "execution_count": 8,
   "id": "4f7ecaa1",
   "metadata": {},
   "outputs": [],
   "source": [
    "from nltk.stem import WordNetLemmatizer\n",
    "\n",
    "lemmatizer = WordNetLemmatizer()\n",
    "words = [\"running\", \"better\", \"ran\"]\n",
    "lemmatized_words = [lemmatizer.lemmatize(w, pos='v') for w in words]\n",
    "# Output: ['run', 'good', 'run']\n"
   ]
  },
  {
   "cell_type": "code",
   "execution_count": 9,
   "id": "a2801efd",
   "metadata": {},
   "outputs": [],
   "source": [
    "from nltk.stem import WordNetLemmatizer\n",
    "\n",
    "lemmatizer = WordNetLemmatizer()\n",
    "words = [\"running\", \"better\", \"ran\"]\n",
    "lemmatized_words = [lemmatizer.lemmatize(w, pos='v') for w in words]\n",
    "# Output: ['run', 'good', 'run']\n"
   ]
  },
  {
   "cell_type": "code",
   "execution_count": 10,
   "id": "84fde587",
   "metadata": {},
   "outputs": [
    {
     "name": "stdout",
     "output_type": "stream",
     "text": [
      "[[1 1 1 1 0 1 0]\n",
      " [0 1 1 0 1 0 1]]\n"
     ]
    }
   ],
   "source": [
    "from sklearn.feature_extraction.text import CountVectorizer\n",
    "\n",
    "text = [\"Natural language processing is exciting.\", \n",
    "        \"Language is a powerful tool.\"]\n",
    "vectorizer = CountVectorizer()\n",
    "bow_matrix = vectorizer.fit_transform(text)\n",
    "print(bow_matrix.toarray())\n",
    "# Output: [[1 1 1 1 1 0 0 0], [0 1 0 1 0 1 1 1]]\n"
   ]
  },
  {
   "cell_type": "code",
   "execution_count": 11,
   "id": "246c280c",
   "metadata": {},
   "outputs": [
    {
     "name": "stdout",
     "output_type": "stream",
     "text": [
      "[[0.49922133 0.35520009 0.35520009 0.49922133 0.         0.49922133\n",
      "  0.        ]\n",
      " [0.         0.40993715 0.40993715 0.         0.57615236 0.\n",
      "  0.57615236]]\n"
     ]
    }
   ],
   "source": [
    "from sklearn.feature_extraction.text import TfidfVectorizer\n",
    "\n",
    "text = [\"Natural language processing is exciting.\", \n",
    "        \"Language is a powerful tool.\"]\n",
    "tfidf_vectorizer = TfidfVectorizer()\n",
    "tfidf_matrix = tfidf_vectorizer.fit_transform(text)\n",
    "print(tfidf_matrix.toarray())\n",
    "# Output: [[0.40993715 0.40993715 0.40993715 0.40993715 0.40993715 0.00000000 0.00000000 0.00000000],\n",
    "#          [0.00000000 0.34369367 0.00000000 0.34369367 0.00000000 0.48546061 0.48546061 0.48546061]]\n"
   ]
  },
  {
   "cell_type": "code",
   "execution_count": 12,
   "id": "d419593a",
   "metadata": {},
   "outputs": [],
   "source": [
    "from gensim.models import Word2Vec\n",
    "\n",
    "sentences = [[\"natural\", \"language\", \"processing\"],\n",
    "             [\"language\", \"is\", \"a\", \"powerful\", \"tool\"]]\n",
    "model = Word2Vec(sentences, vector_size=100, window=5, min_count=1, workers=4)\n",
    "vector = model.wv['language']  # Output: متجه يمثل كلمة 'language'\n"
   ]
  },
  {
   "cell_type": "code",
   "execution_count": 13,
   "id": "dd517fd6",
   "metadata": {},
   "outputs": [],
   "source": [
    "from tensorflow.keras.preprocessing.text import Tokenizer\n",
    "\n",
    "text = [\"I love natural language processing\"]\n",
    "tokenizer = Tokenizer()\n",
    "tokenizer.fit_on_texts(text)\n",
    "sequences = tokenizer.texts_to_sequences(text)\n",
    "# Output: [[1, 2, 3, 4, 5]]\n"
   ]
  },
  {
   "cell_type": "code",
   "execution_count": 14,
   "id": "b6c86600",
   "metadata": {},
   "outputs": [],
   "source": [
    "from sklearn.feature_extraction.text import CountVectorizer\n",
    "\n",
    "text = [\"I love natural language processing\"]\n",
    "vectorizer = CountVectorizer(ngram_range=(2, 2))  # استخراج ثنائي الألفاظ (bigrams)\n",
    "ngram_matrix = vectorizer.fit_transform(text)\n",
    "# Output: تمثيل النص باستخدام ثنائي الألفاظ\n"
   ]
  },
  {
   "cell_type": "code",
   "execution_count": 15,
   "id": "ddf52480",
   "metadata": {},
   "outputs": [],
   "source": [
    "import re\n",
    "text = \"hellooooo\"\n",
    "cleaned_text = re.sub(r'(.)\\1+', r'\\1', text)\n",
    "# Output: 'hello'\n"
   ]
  },
  {
   "cell_type": "code",
   "execution_count": 16,
   "id": "c71bce8a",
   "metadata": {},
   "outputs": [],
   "source": [
    "text = \"مرحبا\"\n",
    "encoded_text = text.encode('utf-8')\n",
    "# Output: b'\\xd9\\x85\\xd8\\xb1\\xd8\\xad\\xd8\\xa8\\xd8\\xa7'\n"
   ]
  },
  {
   "cell_type": "code",
   "execution_count": null,
   "id": "7182fe46",
   "metadata": {},
   "outputs": [],
   "source": []
  }
 ],
 "metadata": {
  "kernelspec": {
   "display_name": "Python 3 (ipykernel)",
   "language": "python",
   "name": "python3"
  },
  "language_info": {
   "codemirror_mode": {
    "name": "ipython",
    "version": 3
   },
   "file_extension": ".py",
   "mimetype": "text/x-python",
   "name": "python",
   "nbconvert_exporter": "python",
   "pygments_lexer": "ipython3",
   "version": "3.9.13"
  }
 },
 "nbformat": 4,
 "nbformat_minor": 5
}
